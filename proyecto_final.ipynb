{
 "cells": [
  {
   "cell_type": "markdown",
   "metadata": {},
   "source": [
    "# imports"
   ]
  },
  {
   "cell_type": "code",
   "execution_count": 2,
   "metadata": {},
   "outputs": [],
   "source": [
    "import matplotlib.pyplot as plt\n",
    "import numpy as np\n",
    "import seaborn as sns\n",
    "import pandas as pd\n",
    "import random\n",
    "import matplotlib\n",
    "import math\n",
    "import matplotlib.pyplot as plt\n",
    "import itertools"
   ]
  },
  {
   "cell_type": "markdown",
   "metadata": {},
   "source": [
    "# Algoritmo Genético"
   ]
  },
  {
   "cell_type": "markdown",
   "metadata": {},
   "source": [
    "## Inicialización"
   ]
  },
  {
   "cell_type": "code",
   "execution_count": 20,
   "metadata": {},
   "outputs": [],
   "source": [
    "numero_parcelas = 15\n",
    "numero_vehiculos = 10\n",
    "numero_trabajadores = 30\n",
    "parcelas = []\n",
    "vehiculos = []"
   ]
  },
  {
   "cell_type": "code",
   "execution_count": 21,
   "metadata": {},
   "outputs": [
    {
     "data": {
      "text/html": [
       "<div>\n",
       "<style scoped>\n",
       "    .dataframe tbody tr th:only-of-type {\n",
       "        vertical-align: middle;\n",
       "    }\n",
       "\n",
       "    .dataframe tbody tr th {\n",
       "        vertical-align: top;\n",
       "    }\n",
       "\n",
       "    .dataframe thead th {\n",
       "        text-align: right;\n",
       "    }\n",
       "</style>\n",
       "<table border=\"1\" class=\"dataframe\">\n",
       "  <thead>\n",
       "    <tr style=\"text-align: right;\">\n",
       "      <th></th>\n",
       "      <th>Valor</th>\n",
       "      <th>Peso</th>\n",
       "    </tr>\n",
       "  </thead>\n",
       "  <tbody>\n",
       "    <tr>\n",
       "      <th>0</th>\n",
       "      <td>690</td>\n",
       "      <td>5</td>\n",
       "    </tr>\n",
       "    <tr>\n",
       "      <th>1</th>\n",
       "      <td>894</td>\n",
       "      <td>1</td>\n",
       "    </tr>\n",
       "    <tr>\n",
       "      <th>2</th>\n",
       "      <td>1130</td>\n",
       "      <td>3</td>\n",
       "    </tr>\n",
       "    <tr>\n",
       "      <th>3</th>\n",
       "      <td>953</td>\n",
       "      <td>9</td>\n",
       "    </tr>\n",
       "    <tr>\n",
       "      <th>4</th>\n",
       "      <td>764</td>\n",
       "      <td>3</td>\n",
       "    </tr>\n",
       "    <tr>\n",
       "      <th>5</th>\n",
       "      <td>682</td>\n",
       "      <td>1</td>\n",
       "    </tr>\n",
       "    <tr>\n",
       "      <th>6</th>\n",
       "      <td>925</td>\n",
       "      <td>3</td>\n",
       "    </tr>\n",
       "    <tr>\n",
       "      <th>7</th>\n",
       "      <td>1034</td>\n",
       "      <td>4</td>\n",
       "    </tr>\n",
       "    <tr>\n",
       "      <th>8</th>\n",
       "      <td>215</td>\n",
       "      <td>7</td>\n",
       "    </tr>\n",
       "    <tr>\n",
       "      <th>9</th>\n",
       "      <td>676</td>\n",
       "      <td>3</td>\n",
       "    </tr>\n",
       "    <tr>\n",
       "      <th>10</th>\n",
       "      <td>527</td>\n",
       "      <td>9</td>\n",
       "    </tr>\n",
       "    <tr>\n",
       "      <th>11</th>\n",
       "      <td>191</td>\n",
       "      <td>2</td>\n",
       "    </tr>\n",
       "    <tr>\n",
       "      <th>12</th>\n",
       "      <td>921</td>\n",
       "      <td>8</td>\n",
       "    </tr>\n",
       "    <tr>\n",
       "      <th>13</th>\n",
       "      <td>965</td>\n",
       "      <td>7</td>\n",
       "    </tr>\n",
       "    <tr>\n",
       "      <th>14</th>\n",
       "      <td>1053</td>\n",
       "      <td>6</td>\n",
       "    </tr>\n",
       "  </tbody>\n",
       "</table>\n",
       "</div>"
      ],
      "text/plain": [
       "    Valor  Peso\n",
       "0     690     5\n",
       "1     894     1\n",
       "2    1130     3\n",
       "3     953     9\n",
       "4     764     3\n",
       "5     682     1\n",
       "6     925     3\n",
       "7    1034     4\n",
       "8     215     7\n",
       "9     676     3\n",
       "10    527     9\n",
       "11    191     2\n",
       "12    921     8\n",
       "13    965     7\n",
       "14   1053     6"
      ]
     },
     "execution_count": 21,
     "metadata": {},
     "output_type": "execute_result"
    }
   ],
   "source": [
    "valores = np.random.choice(range(100, 1200), int(numero_parcelas), replace=True)\n",
    "pesos = np.random.choice(range(1, 10), int(numero_parcelas), replace=True)\n",
    "vehiculos = np.random.choice(range(1000, 2500), int(numero_vehiculos), replace=True)\n",
    "capacidad_trabajo = int(numero_trabajadores) * 40\n",
    "\n",
    "pd.DataFrame(data={'Valor' : valores, 'Peso' : pesos})"
   ]
  },
  {
   "cell_type": "code",
   "execution_count": 22,
   "metadata": {},
   "outputs": [
    {
     "data": {
      "text/html": [
       "<div>\n",
       "<style scoped>\n",
       "    .dataframe tbody tr th:only-of-type {\n",
       "        vertical-align: middle;\n",
       "    }\n",
       "\n",
       "    .dataframe tbody tr th {\n",
       "        vertical-align: top;\n",
       "    }\n",
       "\n",
       "    .dataframe thead th {\n",
       "        text-align: right;\n",
       "    }\n",
       "</style>\n",
       "<table border=\"1\" class=\"dataframe\">\n",
       "  <thead>\n",
       "    <tr style=\"text-align: right;\">\n",
       "      <th></th>\n",
       "      <th>capacidad de vehiculos</th>\n",
       "    </tr>\n",
       "  </thead>\n",
       "  <tbody>\n",
       "    <tr>\n",
       "      <th>0</th>\n",
       "      <td>1605</td>\n",
       "    </tr>\n",
       "    <tr>\n",
       "      <th>1</th>\n",
       "      <td>2390</td>\n",
       "    </tr>\n",
       "    <tr>\n",
       "      <th>2</th>\n",
       "      <td>2201</td>\n",
       "    </tr>\n",
       "    <tr>\n",
       "      <th>3</th>\n",
       "      <td>2495</td>\n",
       "    </tr>\n",
       "    <tr>\n",
       "      <th>4</th>\n",
       "      <td>2097</td>\n",
       "    </tr>\n",
       "    <tr>\n",
       "      <th>5</th>\n",
       "      <td>2435</td>\n",
       "    </tr>\n",
       "    <tr>\n",
       "      <th>6</th>\n",
       "      <td>1112</td>\n",
       "    </tr>\n",
       "    <tr>\n",
       "      <th>7</th>\n",
       "      <td>1863</td>\n",
       "    </tr>\n",
       "    <tr>\n",
       "      <th>8</th>\n",
       "      <td>2000</td>\n",
       "    </tr>\n",
       "    <tr>\n",
       "      <th>9</th>\n",
       "      <td>1752</td>\n",
       "    </tr>\n",
       "  </tbody>\n",
       "</table>\n",
       "</div>"
      ],
      "text/plain": [
       "   capacidad de vehiculos\n",
       "0                    1605\n",
       "1                    2390\n",
       "2                    2201\n",
       "3                    2495\n",
       "4                    2097\n",
       "5                    2435\n",
       "6                    1112\n",
       "7                    1863\n",
       "8                    2000\n",
       "9                    1752"
      ]
     },
     "execution_count": 22,
     "metadata": {},
     "output_type": "execute_result"
    }
   ],
   "source": [
    "pd.DataFrame(data={'capacidad de vehiculos' : vehiculos})"
   ]
  },
  {
   "cell_type": "markdown",
   "metadata": {},
   "source": [
    "## Implementación"
   ]
  },
  {
   "cell_type": "code",
   "execution_count": 23,
   "metadata": {},
   "outputs": [],
   "source": [
    "def cantidad_recolectada(indices):\n",
    "        return valores[indices].sum(), pesos[indices].sum()"
   ]
  },
  {
   "cell_type": "code",
   "execution_count": 24,
   "metadata": {},
   "outputs": [],
   "source": [
    "pares = list(itertools.permutations(range(int(numero_parcelas)), 2))\n",
    "matriz_peso = pd.DataFrame(index =range(int(numero_parcelas)), columns=range(int(numero_parcelas)))\n",
    "matriz_peso.fillna(0, inplace=True)\n",
    "\n",
    "matriz_valor = pd.DataFrame(index =range(int(numero_parcelas)), columns=range(int(numero_parcelas)))\n",
    "matriz_valor.fillna(0, inplace=True)"
   ]
  },
  {
   "cell_type": "code",
   "execution_count": 25,
   "metadata": {},
   "outputs": [],
   "source": [
    "for par in pares: \n",
    "    valorA=valores[par[0]]\n",
    "    valorB=valores[par[1]]\n",
    "    matriz_valor.loc[par[0], par[1]] = valorA + valorB\n",
    "\n",
    "for par in pares: \n",
    "    pesoA=pesos[par[0]]\n",
    "    pesoB=pesos[par[1]]\n",
    "    matriz_peso.loc[par[0], par[1]] = pesoA + pesoB\n",
    "\n",
    "for i in matriz_valor:\n",
    "    matriz_valor[i][i] = valores[i]\n",
    "    matriz_peso[i][i] = pesos[i]"
   ]
  },
  {
   "cell_type": "code",
   "execution_count": 26,
   "metadata": {},
   "outputs": [],
   "source": [
    "def generate_random_solution(arr):\n",
    "    solucion = random.sample(arr, random.randint(1 ,len(arr) - 1))\n",
    "    ruta = [[solucion[i], solucion[i + 1]] for i in range(len(solucion) - 1)]\n",
    "    return solucion, ruta"
   ]
  },
  {
   "cell_type": "code",
   "execution_count": 27,
   "metadata": {},
   "outputs": [],
   "source": [
    "arr = list(range(int(numero_parcelas)))\n",
    "sol, rutas = generate_random_solution(arr)\n",
    "\n",
    "elementos_solucion = list(matriz_valor.index)[0:]\n",
    "soluciones_salida = []\n",
    "soluciones = [itertools.combinations(elementos_solucion, len(elementos_solucion) - x) for x in range(0, int(numero_parcelas))]\n",
    "soluciones = list(itertools.chain.from_iterable(soluciones))\n",
    "for sol in soluciones:\n",
    "    temp_sol = list(sol)\n",
    "    soluciones_salida.append(temp_sol)\n",
    "\n",
    "\n",
    "poblacion_0 = random.choices(soluciones_salida, k=100)"
   ]
  },
  {
   "cell_type": "code",
   "execution_count": 28,
   "metadata": {},
   "outputs": [],
   "source": [
    "def fitness_calculation(solucion, df_distancias):\n",
    "        valor_total = 0\n",
    "        peso_total = 0\n",
    "        last_index = 0\n",
    "        for index, rt in enumerate(solucion):\n",
    "                last_index = index\n",
    "                try:\n",
    "                    if len(solucion) == 1:\n",
    "                        rt_inicial = solucion[index]\n",
    "                        rt_siguiente = solucion[index]\n",
    "                        valor = matriz_valor.loc[rt_inicial, rt_siguiente]\n",
    "                        peso = matriz_peso.loc[rt_inicial, rt_siguiente]\n",
    "                        if valor_total + valor > capacidad_trabajo:\n",
    "                            factible = False\n",
    "                            break\n",
    "                        if any(i < peso_total + peso for i in vehiculos):\n",
    "                            factible = False\n",
    "                            break\n",
    "                        peso_total = peso_total + peso\n",
    "                        valor_total = valor_total + valor\n",
    "                    else:\n",
    "                        rt_inicial = solucion[index]\n",
    "                        rt_siguiente = solucion[index + 1]\n",
    "                        valor = matriz_valor.loc[rt_inicial, rt_siguiente]\n",
    "                        peso = matriz_peso.loc[rt_inicial, rt_siguiente]\n",
    "                        if valor_total + valor > capacidad_trabajo:\n",
    "                            factible = False\n",
    "                            break\n",
    "                        if any(i < peso_total + peso for i in vehiculos):\n",
    "                            factible = False\n",
    "                            break\n",
    "                        peso_total = peso_total + peso\n",
    "                        valor_total = valor_total + valor\n",
    "                except:\n",
    "                        pass\n",
    "        return last_index, valor_total"
   ]
  },
  {
   "cell_type": "code",
   "execution_count": 29,
   "metadata": {},
   "outputs": [],
   "source": [
    "def calculate_fitness_DF(poblacion):\n",
    "    finess_solucion_dict = {}\n",
    "    for solucion in poblacion:\n",
    "        last_index, sol_fitness = fitness_calculation(solucion, matriz_valor)\n",
    "        finess_solucion_dict[''.join([f'''{str(elem)}, ''' for elem in solucion][0:last_index + 1])] = int(sol_fitness)\n",
    "    df_poblacion = pd.DataFrame.from_dict(finess_solucion_dict, orient='index').reset_index()\n",
    "    df_poblacion.columns = ['solucion', 'fitness']\n",
    "    return df_poblacion\n"
   ]
  },
  {
   "cell_type": "code",
   "execution_count": 30,
   "metadata": {},
   "outputs": [],
   "source": [
    "def swap(ruta):\n",
    "        if len(ruta) > 1:\n",
    "            i, j = random.sample(range(len(ruta)), 2)\n",
    "            nueva_ruta = list(ruta)\n",
    "            nueva_ruta[i] = nueva_ruta[j]\n",
    "            nueva_ruta[j] = nueva_ruta[i]\n",
    "            return nueva_ruta\n",
    "        else:\n",
    "            return ruta"
   ]
  },
  {
   "cell_type": "code",
   "execution_count": 31,
   "metadata": {},
   "outputs": [],
   "source": [
    "df_poblacion_0 = calculate_fitness_DF(poblacion_0)\n",
    "n_mejores = int(len(df_poblacion_0)*0.5)\n",
    "mejores_pob_0 = df_poblacion_0.nlargest(n_mejores, 'fitness')"
   ]
  },
  {
   "cell_type": "code",
   "execution_count": 32,
   "metadata": {},
   "outputs": [
    {
     "name": "stdout",
     "output_type": "stream",
     "text": [
      "Solucion Óptima: 8, 10, \n",
      "Cantidad de caña de azucar recolectada: 742\n"
     ]
    }
   ],
   "source": [
    "print(f'Solucion Óptima: {mejores_pob_0.iloc[0][\"solucion\"]}')\n",
    "print(f'''Cantidad de caña de azucar recolectada: {mejores_pob_0.iloc[0]['fitness']}''')"
   ]
  },
  {
   "cell_type": "markdown",
   "metadata": {},
   "source": [
    "# Algoritmo Recocido"
   ]
  },
  {
   "cell_type": "code",
   "execution_count": 34,
   "metadata": {},
   "outputs": [],
   "source": [
    "iteraciones = 2000\n",
    "arr = list(range(int(numero_parcelas)))\n",
    "sol, rutas = generate_random_solution(arr)\n",
    "iteraciones = int(iteraciones)\n",
    "fitness = []\n",
    "solucion_actual = sol\n",
    "last_index, valor_actual=fitness_calculation(solucion_actual, matriz_valor)\n",
    "mejor_solucion = solucion_actual\n",
    "mejor_valor=valor_actual"
   ]
  },
  {
   "cell_type": "code",
   "execution_count": 35,
   "metadata": {},
   "outputs": [],
   "source": [
    "for i in range(iteraciones):\n",
    "    nueva_solucion = swap(solucion_actual)\n",
    "    last_index, nuevo_valor = fitness_calculation(nueva_solucion, matriz_valor)\n",
    "    if (nuevo_valor > valor_actual):\n",
    "        solucion_actual = nueva_solucion\n",
    "        valor_actual = nuevo_valor\n",
    "        if (nuevo_valor > mejor_valor):\n",
    "            mejor_solucion = nueva_solucion\n",
    "            mejor_valor=valor_actual\n",
    "            fitness.append(valor_actual)\n",
    "    else:\n",
    "        probabilidad_aceptacion = math.exp((nuevo_valor - valor_actual))\n",
    "        if (random.random() < probabilidad_aceptacion):\n",
    "            solucion_actual = nueva_solucion\n",
    "            valor_actual = nuevo_valor"
   ]
  },
  {
   "cell_type": "code",
   "execution_count": 37,
   "metadata": {},
   "outputs": [
    {
     "name": "stdout",
     "output_type": "stream",
     "text": [
      "Solución optima: [14, 14, 6]\n",
      "Cantidad de caña de azucar recolectada: 1053\n"
     ]
    }
   ],
   "source": [
    "print(f'Solución optima: {str(mejor_solucion)}')\n",
    "print(f'Cantidad de caña de azucar recolectada: {mejor_valor}')"
   ]
  }
 ],
 "metadata": {
  "kernelspec": {
   "display_name": "Python 3",
   "language": "python",
   "name": "python3"
  },
  "language_info": {
   "codemirror_mode": {
    "name": "ipython",
    "version": 3
   },
   "file_extension": ".py",
   "mimetype": "text/x-python",
   "name": "python",
   "nbconvert_exporter": "python",
   "pygments_lexer": "ipython3",
   "version": "3.10.5"
  },
  "orig_nbformat": 4
 },
 "nbformat": 4,
 "nbformat_minor": 2
}
